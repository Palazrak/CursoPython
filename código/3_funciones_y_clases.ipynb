{
 "cells": [
  {
   "cell_type": "markdown",
   "metadata": {},
   "source": [
    "# 3. Funciones y clases\n",
    "\n",
    "## A) FUNCIONES\n",
    "\n",
    "Crea un programa que implemente 5 funciones. Sigue las instrucciones detalladas para cada función y resuélvelas en orden. Cada función debe ser probada con diferentes casos para verificar su correcto funcionamiento.\n",
    "\n",
    "**Ejercicio 1**: Diseña una función llamada `calcular_promedio` que reciba una lista de números como argumento y devuelva el promedio de esos números. Si la lista está vacía, la función debe devolver 0"
   ]
  },
  {
   "cell_type": "code",
   "execution_count": null,
   "metadata": {},
   "outputs": [],
   "source": []
  },
  {
   "cell_type": "markdown",
   "metadata": {},
   "source": [
    "**Ejercicio 2**: Diseña una función llamada `filtrar_pares` que reciba una lista de números como argumento y devuelva una nueva lista que contenga solo los números pares. Si no hay números pares, la función debe devolver una lista vacía"
   ]
  },
  {
   "cell_type": "code",
   "execution_count": null,
   "metadata": {},
   "outputs": [],
   "source": []
  },
  {
   "cell_type": "markdown",
   "metadata": {},
   "source": [
    "**Ejercicio 3**: Diseña una función llamada `contar_palabras` que reciba una lista de palabras como argumento y devuelva un diccionario donde las claves sean las palabras y los valores sean la cantidad de veces que aparece cada palabra."
   ]
  },
  {
   "cell_type": "code",
   "execution_count": null,
   "metadata": {},
   "outputs": [],
   "source": []
  },
  {
   "cell_type": "markdown",
   "metadata": {},
   "source": [
    "**Ejercicio 4**: Diseña una función llamada `es_primo` que reciba un número entero como argumento y devuelva `True` si el número es primo o `False` si no lo es. Un número primo es aquel mayor que 1 que solo es divisible por 1 y por sí mismo. Optimiza la función para que no revise todos los números hasta el valor dado (puedes revisar solo hasta la raíz cuadrada)."
   ]
  },
  {
   "cell_type": "code",
   "execution_count": null,
   "metadata": {},
   "outputs": [],
   "source": []
  },
  {
   "cell_type": "markdown",
   "metadata": {},
   "source": [
    "**Ejercicio 5**: Diseña una función llamada procesar_estudiantes que reciba un diccionario donde las claves sean nombres de estudiantes y los valores sean listas de calificaciones. La función debe devolver un nuevo diccionario donde:\n",
    "\n",
    "- Cada clave sea el nombre del estudiante.\n",
    "- Cada valor sea un diccionario con dos claves internas:\n",
    "  - `\"promedio\"`: El promedio de las calificaciones.\n",
    "  - `\"aprobado\"`: Un valor booleano que indique si el estudiante aprobó (promedio mayor o igual a 6)."
   ]
  },
  {
   "cell_type": "code",
   "execution_count": null,
   "metadata": {},
   "outputs": [],
   "source": []
  },
  {
   "cell_type": "markdown",
   "metadata": {},
   "source": [
    "## B) CLASES\n",
    "\n",
    "**Ejercicio 1: Clase `Producto`**: \n",
    "\n",
    "*Objetivo*: Crear una clase que modele un producto con atributos básicos y un método para verificar si el producto ha expirado.\n",
    "\n",
    "*Instrucciones*: \n",
    "1. Definir la clase `Producto`:\n",
    "   - Define una clase llamada \"Producto\".\n",
    "   - Los atributos de la clase deben ser:\n",
    "       - nombre (cadena de texto): Nombre del producto.\n",
    "       - marca (cadena de texto): Marca del producto.\n",
    "       - fecha_caducidad (cadena de texto, formato YYYY-MM-DD): Fecha en que expira el producto.\n",
    "       - lote (cadena de texto): Número de lote del producto.\n",
    "2. Agregar un método `ya_caduco`:\n",
    "    - Este método verificará si el producto ha expirado.\n",
    "    - Usa el módulo `datetime` para comparar la fecha actual con la fecha_caducidad.\n",
    "    - Devuelve `True` si el producto ya pasó su fecha de caducidad, o `False` si no.\n",
    "3. Crear y probar objetos Producto:\n",
    "    - Crea al menos dos objetos Producto con diferentes fechas de caducidad.\n",
    "    - Llama al método `ya_caduco` para verificar si están expirados o no."
   ]
  },
  {
   "cell_type": "code",
   "execution_count": null,
   "metadata": {},
   "outputs": [],
   "source": []
  },
  {
   "cell_type": "markdown",
   "metadata": {},
   "source": [
    "**Ejercicio 2: Clase `Estante`**: \n",
    "\n",
    "*Objetivo*: Crear una clase que modele un estante que contiene productos, con capacidad limitada y métodos para administrar los productos\n",
    "\n",
    "*Instrucciones*: \n",
    "1. Definir la clase `Estante`:\n",
    "   - Define una clase llamada \"Estante\".\n",
    "   - Los atributos de la clase deben ser:\n",
    "        - productos (lista): Una lista que almacenará objetos de tipo Producto.\n",
    "        - capacidad_maxima (entero): El número máximo de productos permitidos (valor predeterminado: 8).\n",
    "2. Agregar un método `agregar_producto`:\n",
    "    - Este método debe recibir un objeto de tipo `Producto`\n",
    "    - Si la lista productos ya tiene 8 elementos, muestra un mensaje indicando que el estante está lleno y NO se insertará, regresando `False`\n",
    "    - En caso de que aún haya cupo, se insertará en la lista y se regresará `True`, indicando que se insertó exitosamente\n",
    "3. Agregar un método consumir_producto:\n",
    "    - Este método debe recibir el nombre de un producto y eliminarlo de la lista productos.\n",
    "    - Si el producto no está en el estante, muestra un mensaje indicando que no se encontró.\n",
    "4. Agregar un método mostrar_productos:\n",
    "    - Este método imprime todos los productos en el estante, mostrando su nombre, marca, fecha de caducidad y lote.\n",
    "5. Probar la clase Estante:\n",
    "    - Crea un estante vacío.\n",
    "    - Agrega al menos 3 productos (usando la clase Producto).\n",
    "    - Muestra los productos almacenados en el estante.\n",
    "    - Consume un producto y muestra los productos restantes.\n",
    "    - Intenta agregar más de 8 productos para verificar el límite.\n"
   ]
  },
  {
   "cell_type": "code",
   "execution_count": null,
   "metadata": {},
   "outputs": [],
   "source": []
  }
 ],
 "metadata": {
  "kernelspec": {
   "display_name": "ofcom",
   "language": "python",
   "name": "python3"
  },
  "language_info": {
   "name": "python",
   "version": "3.12.0"
  }
 },
 "nbformat": 4,
 "nbformat_minor": 2
}
