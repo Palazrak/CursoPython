{
 "cells": [
  {
   "cell_type": "markdown",
   "metadata": {},
   "source": [
    "# 3. Introducción a NumPy y Pandas\n",
    "\n",
    "## A) NumPy\n",
    "\n",
    "**Ejercicio 1**: Crea un arreglo con los valores del 1 al 10 y usa la computación vectorizada para calcular el cuadrado de cada elemento."
   ]
  },
  {
   "cell_type": "code",
   "execution_count": null,
   "metadata": {},
   "outputs": [],
   "source": []
  },
  {
   "cell_type": "markdown",
   "metadata": {},
   "source": [
    "**Ejercicio 2**: Crea dos arreglos de tamaño 5, por ejemplo,` a = [1, 2, 3, 4, 5]` y `b = [5, 4, 3, 2, 1]`. Usa computación vectorizada para sumarlos."
   ]
  },
  {
   "cell_type": "code",
   "execution_count": null,
   "metadata": {},
   "outputs": [],
   "source": []
  },
  {
   "cell_type": "markdown",
   "metadata": {},
   "source": [
    "**Ejercicio 3**: Crea un arreglo con valores `[4, 16, 25, 36]` y usa una operación vectorizada para calcular la raíz cuadrada de cada elemento."
   ]
  },
  {
   "cell_type": "code",
   "execution_count": null,
   "metadata": {},
   "outputs": [],
   "source": []
  },
  {
   "cell_type": "markdown",
   "metadata": {},
   "source": [
    "**Ejercicio 4**: Crea un arreglo con valores del 1 al 10 y multiplícalo por una constante, como `3`, utilizando operaciones vectorizadas."
   ]
  },
  {
   "cell_type": "code",
   "execution_count": null,
   "metadata": {},
   "outputs": [],
   "source": []
  },
  {
   "cell_type": "markdown",
   "metadata": {},
   "source": [
    "**Ejercicio 5**: Crea dos arreglos: `a = [1, 2, 3, 4]` y `b = [4, 3, 2, 1]`. Usa computación vectorizada para determinar cuáles elementos en `a` son mayores que los elementos correspondientes en `b`."
   ]
  },
  {
   "cell_type": "code",
   "execution_count": null,
   "metadata": {},
   "outputs": [],
   "source": []
  },
  {
   "cell_type": "markdown",
   "metadata": {},
   "source": [
    "**Ejercicio 6**: Crea un arreglo con valores del 1 al 20. Usa una operación vectorizada para obtener solo los números pares."
   ]
  },
  {
   "cell_type": "code",
   "execution_count": null,
   "metadata": {},
   "outputs": [],
   "source": []
  },
  {
   "cell_type": "markdown",
   "metadata": {},
   "source": [
    "**Ejercicio 7**: Genera una matriz aleatoria de tamaño 3 x 3. Usa operaciones vectorizadas para calcular el promedio de cada fila y de cada columna."
   ]
  },
  {
   "cell_type": "code",
   "execution_count": null,
   "metadata": {},
   "outputs": [],
   "source": []
  },
  {
   "cell_type": "markdown",
   "metadata": {},
   "source": [
    "**Ejercicio 8**: Crea un arreglo con valores del 1 al 1,000,000. Calcula la suma acumulada (suma parcial de los elementos desde el inicio hasta cada posición) usando:\n",
    "\n",
    "- Listas tradicionales con un ciclo.\n",
    "- NumPy con la función np.cumsum(). Compara el tiempo de ejecución de ambas implementaciones."
   ]
  },
  {
   "cell_type": "code",
   "execution_count": null,
   "metadata": {},
   "outputs": [],
   "source": []
  },
  {
   "cell_type": "markdown",
   "metadata": {},
   "source": [
    "**Ejercicio 9**: Crea un arreglo con 10 valores equidistantes entre 0 y 2π. Usa operaciones vectorizadas para calcular el seno de cada elemento."
   ]
  },
  {
   "cell_type": "code",
   "execution_count": null,
   "metadata": {},
   "outputs": [],
   "source": []
  }
 ],
 "metadata": {
  "kernelspec": {
   "display_name": "ofcom",
   "language": "python",
   "name": "python3"
  },
  "language_info": {
   "codemirror_mode": {
    "name": "ipython",
    "version": 3
   },
   "file_extension": ".py",
   "mimetype": "text/x-python",
   "name": "python",
   "nbconvert_exporter": "python",
   "pygments_lexer": "ipython3",
   "version": "3.12.0"
  }
 },
 "nbformat": 4,
 "nbformat_minor": 2
}
