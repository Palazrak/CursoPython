{
 "cells": [
  {
   "cell_type": "markdown",
   "metadata": {},
   "source": [
    "# 3. Introducción a NumPy y Pandas\n",
    "\n",
    "## A) NumPy\n",
    "\n",
    "**Ejercicio 1**: Crea un arreglo con los valores del 1 al 10 y usa la computación vectorizada para calcular el cuadrado de cada elemento."
   ]
  },
  {
   "cell_type": "code",
   "execution_count": null,
   "metadata": {},
   "outputs": [],
   "source": []
  },
  {
   "cell_type": "markdown",
   "metadata": {},
   "source": [
    "**Ejercicio 2**: Crea dos arreglos de tamaño 5, por ejemplo,` a = [1, 2, 3, 4, 5]` y `b = [5, 4, 3, 2, 1]`. Usa computación vectorizada para sumarlos."
   ]
  },
  {
   "cell_type": "code",
   "execution_count": null,
   "metadata": {},
   "outputs": [],
   "source": []
  },
  {
   "cell_type": "markdown",
   "metadata": {},
   "source": [
    "**Ejercicio 3**: Crea un arreglo con valores `[4, 16, 25, 36]` y usa una operación vectorizada para calcular la raíz cuadrada de cada elemento.."
   ]
  },
  {
   "cell_type": "code",
   "execution_count": null,
   "metadata": {},
   "outputs": [],
   "source": []
  },
  {
   "cell_type": "markdown",
   "metadata": {},
   "source": [
    "**Ejercicio 4**: Diseña una función llamada `es_primo` que reciba un número entero como argumento y devuelva `True` si el número es primo o `False` si no lo es. Un número primo es aquel mayor que 1 que solo es divisible por 1 y por sí mismo. Optimiza la función para que no revise todos los números hasta el valor dado (puedes revisar solo hasta la raíz cuadrada)."
   ]
  },
  {
   "cell_type": "code",
   "execution_count": null,
   "metadata": {},
   "outputs": [],
   "source": []
  },
  {
   "cell_type": "markdown",
   "metadata": {},
   "source": [
    "**Ejercicio 5**: Diseña una función llamada procesar_estudiantes que reciba un diccionario donde las claves sean nombres de estudiantes y los valores sean listas de calificaciones. La función debe devolver un nuevo diccionario donde:\n",
    "\n",
    "- Cada clave sea el nombre del estudiante.\n",
    "- Cada valor sea un diccionario con dos claves internas:\n",
    "  - `\"promedio\"`: El promedio de las calificaciones.\n",
    "  - `\"aprobado\"`: Un valor booleano que indique si el estudiante aprobó (promedio mayor o igual a 6)."
   ]
  },
  {
   "cell_type": "code",
   "execution_count": null,
   "metadata": {},
   "outputs": [],
   "source": []
  },
  {
   "cell_type": "markdown",
   "metadata": {},
   "source": [
    "## B) CLASES\n",
    "\n",
    "**Ejercicio 1: Clase `Producto`**: \n",
    "\n",
    "*Objetivo*: Crear una clase que modele un producto con atributos básicos y un método para verificar si el producto ha expirado.\n",
    "\n",
    "*Instrucciones*: \n",
    "1. Definir la clase `Producto`:\n",
    "   - Define una clase llamada \"Producto\".\n",
    "   - Los atributos de la clase deben ser:\n",
    "       - nombre (cadena de texto): Nombre del producto.\n",
    "       - marca (cadena de texto): Marca del producto.\n",
    "       - fecha_caducidad (cadena de texto, formato YYYY-MM-DD): Fecha en que expira el producto.\n",
    "       - lote (cadena de texto): Número de lote del producto.\n",
    "2. Agregar un método `ya_caduco`:\n",
    "    - Este método verificará si el producto ha expirado.\n",
    "    - Usa el módulo `datetime` para comparar la fecha actual con la fecha_caducidad.\n",
    "    - Devuelve `True` si el producto ya pasó su fecha de caducidad, o `False` si no.\n",
    "3. Crear y probar objetos Producto:\n",
    "    - Crea al menos dos objetos Producto con diferentes fechas de caducidad.\n",
    "    - Llama al método `ya_caduco` para verificar si están expirados o no."
   ]
  },
  {
   "cell_type": "code",
   "execution_count": null,
   "metadata": {},
   "outputs": [],
   "source": []
  },
  {
   "cell_type": "markdown",
   "metadata": {},
   "source": [
    "**Ejercicio 2: Clase `Estante`**: \n",
    "\n",
    "*Objetivo*: Crear una clase que modele un estante que contiene productos, con capacidad limitada y métodos para administrar los productos\n",
    "\n",
    "*Instrucciones*: \n",
    "1. Definir la clase `Estante`:\n",
    "   - Define una clase llamada \"Estante\".\n",
    "   - Los atributos de la clase deben ser:\n",
    "        - productos (lista): Una lista que almacenará objetos de tipo Producto.\n",
    "        - capacidad_maxima (entero): El número máximo de productos permitidos (valor predeterminado: 8).\n",
    "2. Agregar un método `agregar_producto`:\n",
    "    - Este método debe recibir un objeto de tipo `Producto`\n",
    "    - Si la lista productos ya tiene 8 elementos, muestra un mensaje indicando que el estante está lleno y NO se insertará, regresando `False`\n",
    "    - En caso de que aún haya cupo, se insertará en la lista y se regresará `True`, indicando que se insertó exitosamente\n",
    "3. Agregar un método consumir_producto:\n",
    "    - Este método debe recibir el nombre de un producto y eliminarlo de la lista productos.\n",
    "    - Si el producto no está en el estante, muestra un mensaje indicando que no se encontró.\n",
    "4. Agregar un método mostrar_productos:\n",
    "    - Este método imprime todos los productos en el estante, mostrando su nombre, marca, fecha de caducidad y lote.\n",
    "5. Probar la clase Estante:\n",
    "    - Crea un estante vacío.\n",
    "    - Agrega al menos 3 productos (usando la clase Producto).\n",
    "    - Muestra los productos almacenados en el estante.\n",
    "    - Consume un producto y muestra los productos restantes.\n",
    "    - Intenta agregar más de 8 productos para verificar el límite.\n"
   ]
  },
  {
   "cell_type": "code",
   "execution_count": null,
   "metadata": {},
   "outputs": [],
   "source": []
  },
  {
   "cell_type": "code",
   "execution_count": 17,
   "metadata": {},
   "outputs": [],
   "source": [
    "class Dog(): \n",
    "    def __init__(self, name, age):\n",
    "        self.name = name\n",
    "        self.age = age\n",
    "    \n",
    "    def __eq__(self, other):\n",
    "        return self.name == other.name and self.age == other.age\n",
    "    \n",
    "    def __str__(self):\n",
    "        return \"Dog: \" + self.name + \", \" + str(self.age)\n",
    "        \n",
    "    def sit(self):\n",
    "        print(self.name.title() + \" is now sitting.\")\n",
    "        \n",
    "    def roll_over(self):\n",
    "        print(self.name.title() + \" rolled over!\")\n"
   ]
  },
  {
   "cell_type": "code",
   "execution_count": 18,
   "metadata": {},
   "outputs": [],
   "source": [
    "firulais = Dog(\"Firulais\", 5)\n",
    "otro_perro = Dog(\"Firulais\", 5)"
   ]
  },
  {
   "cell_type": "code",
   "execution_count": 16,
   "metadata": {},
   "outputs": [
    {
     "data": {
      "text/plain": [
       "True"
      ]
     },
     "execution_count": 16,
     "metadata": {},
     "output_type": "execute_result"
    }
   ],
   "source": [
    "firulais == otro_perro"
   ]
  },
  {
   "cell_type": "code",
   "execution_count": 20,
   "metadata": {},
   "outputs": [
    {
     "name": "stdout",
     "output_type": "stream",
     "text": [
      "Dog: Firulais, 5\n"
     ]
    }
   ],
   "source": [
    "print(firulais)"
   ]
  },
  {
   "cell_type": "code",
   "execution_count": 10,
   "metadata": {},
   "outputs": [
    {
     "data": {
      "text/plain": [
       "5"
      ]
     },
     "execution_count": 10,
     "metadata": {},
     "output_type": "execute_result"
    }
   ],
   "source": [
    "firulais.age"
   ]
  },
  {
   "cell_type": "code",
   "execution_count": 11,
   "metadata": {},
   "outputs": [
    {
     "name": "stdout",
     "output_type": "stream",
     "text": [
      "Firulais is now sitting.\n"
     ]
    }
   ],
   "source": [
    "firulais.sit()"
   ]
  },
  {
   "cell_type": "code",
   "execution_count": 12,
   "metadata": {},
   "outputs": [],
   "source": [
    "firulais.age = 6"
   ]
  },
  {
   "cell_type": "code",
   "execution_count": 13,
   "metadata": {},
   "outputs": [
    {
     "data": {
      "text/plain": [
       "6"
      ]
     },
     "execution_count": 13,
     "metadata": {},
     "output_type": "execute_result"
    }
   ],
   "source": [
    "firulais.age"
   ]
  },
  {
   "cell_type": "code",
   "execution_count": 24,
   "metadata": {},
   "outputs": [],
   "source": [
    "import numpy as np"
   ]
  },
  {
   "cell_type": "code",
   "execution_count": 27,
   "metadata": {},
   "outputs": [
    {
     "data": {
      "text/plain": [
       "(5,)"
      ]
     },
     "execution_count": 27,
     "metadata": {},
     "output_type": "execute_result"
    }
   ],
   "source": [
    "arreglo_1 = np.array([1, 2, 3, 4, 5])\n",
    "arreglo_1.shape"
   ]
  },
  {
   "cell_type": "code",
   "execution_count": 29,
   "metadata": {},
   "outputs": [
    {
     "data": {
      "text/plain": [
       "(3, 3)"
      ]
     },
     "execution_count": 29,
     "metadata": {},
     "output_type": "execute_result"
    }
   ],
   "source": [
    "arreglo_2 = np.array([[1, 2, 3], \n",
    "                      [4, 5, 6], \n",
    "                      [7, 8, 9]])\n",
    "arreglo_2.shape"
   ]
  },
  {
   "cell_type": "code",
   "execution_count": null,
   "metadata": {},
   "outputs": [],
   "source": [
    "arreglo_2."
   ]
  }
 ],
 "metadata": {
  "kernelspec": {
   "display_name": "ofcom",
   "language": "python",
   "name": "python3"
  },
  "language_info": {
   "codemirror_mode": {
    "name": "ipython",
    "version": 3
   },
   "file_extension": ".py",
   "mimetype": "text/x-python",
   "name": "python",
   "nbconvert_exporter": "python",
   "pygments_lexer": "ipython3",
   "version": "3.12.0"
  }
 },
 "nbformat": 4,
 "nbformat_minor": 2
}
