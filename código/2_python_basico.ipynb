{
 "cells": [
  {
   "cell_type": "markdown",
   "metadata": {},
   "source": [
    "# 2. Python Básico\n",
    "\n",
    "## A) Datos primitivos e inputs del usuario\n",
    "\n",
    "**Ejercicio 1**: Dados dos variables numéricas `a` y `b` (inicializadas en la siguiente celda), escribe una ecuación a partir del enunciado que se propone. Imprime el resultado\n",
    "\n",
    "*Ejemplo*: Si el enunciado dice: \"El doble del primer número mas el cuadrado del segundo\", el resultado deberá ser:\n",
    "```python\n",
    "print(2*a + b**2)\n",
    "```"
   ]
  },
  {
   "cell_type": "code",
   "execution_count": 29,
   "metadata": {},
   "outputs": [],
   "source": [
    "a = 2\n",
    "b = 3"
   ]
  },
  {
   "cell_type": "code",
   "execution_count": null,
   "metadata": {},
   "outputs": [],
   "source": [
    "# 1. La suma de dos números\n",
    "\n",
    "# 2. El triple de un número\n",
    "\n",
    "# 3. El doble del primer número más el segundo\n",
    "\n",
    "# 4. El cubo de un número más el cuadrado del otro\n",
    "\n",
    "# 5. El promedio de dos números\n",
    "\n",
    "# 6. El residuo de la división del primer número entre el segundo\n",
    "\n",
    "# 7. El área de un triángulo de base 'a' y altura 'b'\n",
    "\n",
    "# 8. El doble del primer número más el cuadrado del segundo dividido entre 3"
   ]
  },
  {
   "cell_type": "markdown",
   "metadata": {},
   "source": [
    "**Ejercicio 2**: Pide al usuario que ingrese tres números y obtén el promedio de dichos números."
   ]
  },
  {
   "cell_type": "code",
   "execution_count": null,
   "metadata": {},
   "outputs": [],
   "source": []
  },
  {
   "cell_type": "markdown",
   "metadata": {},
   "source": [
    "**Ejercicio 3**. Supón que el usuario debe ingresar su nombre y apellido. Escribe un 'f string' para imprimir un mensaje de bienvenida."
   ]
  },
  {
   "cell_type": "code",
   "execution_count": null,
   "metadata": {},
   "outputs": [],
   "source": []
  },
  {
   "cell_type": "markdown",
   "metadata": {},
   "source": [
    "## B) Condiciones lógicas e if statemets\n",
    "\n",
    "**Ejercicio 1**. Escribe un programa que le pida al usuario un número y le diga si es par o impar."
   ]
  },
  {
   "cell_type": "code",
   "execution_count": null,
   "metadata": {},
   "outputs": [],
   "source": []
  },
  {
   "cell_type": "markdown",
   "metadata": {},
   "source": [
    "**Ejercicio 2**: Escribe un programa que clasifique a una persona según su edad:\n",
    "\n",
    "- Menor de 12 años: \"Niño\"\n",
    "- Entre 12 y 17 años: \"Adolescente\"\n",
    "- 18 años o más: \"Adulto\""
   ]
  },
  {
   "cell_type": "code",
   "execution_count": null,
   "metadata": {},
   "outputs": [],
   "source": []
  },
  {
   "cell_type": "markdown",
   "metadata": {},
   "source": [
    "**Ejercicio 3**: Escribe un programa que determine cuál de tres números ingresados es el mayor."
   ]
  },
  {
   "cell_type": "code",
   "execution_count": null,
   "metadata": {},
   "outputs": [],
   "source": []
  }
 ],
 "metadata": {
  "kernelspec": {
   "display_name": "ofcom",
   "language": "python",
   "name": "python3"
  },
  "language_info": {
   "codemirror_mode": {
    "name": "ipython",
    "version": 3
   },
   "file_extension": ".py",
   "mimetype": "text/x-python",
   "name": "python",
   "nbconvert_exporter": "python",
   "pygments_lexer": "ipython3",
   "version": "3.12.0"
  }
 },
 "nbformat": 4,
 "nbformat_minor": 2
}
