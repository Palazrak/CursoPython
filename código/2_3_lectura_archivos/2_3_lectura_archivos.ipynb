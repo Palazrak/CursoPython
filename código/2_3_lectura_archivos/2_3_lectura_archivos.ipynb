{
 "cells": [
  {
   "cell_type": "markdown",
   "metadata": {},
   "source": [
    "# 2. Python Básico\n",
    "\n",
    "## D) Lectura de archivos \n",
    "\n",
    "**Ejercicio 1**: Crea un programa que lea el archivo `ejercicio1.txt`. Cada línea del archivo debe convertirse en un elemento de una lista. Al finalizar, imprime la lista generada."
   ]
  },
  {
   "cell_type": "code",
   "execution_count": null,
   "metadata": {},
   "outputs": [],
   "source": []
  },
  {
   "cell_type": "markdown",
   "metadata": {},
   "source": [
    "**Ejercicio 2**: Crea un programa que lea el archivo `ejercicio2.txt`. Cada línea contiene datos separados por comas: nombre, edad y ocupación. Convierte cada línea en una tupla (nombre, edad, ocupación) y almacénala en una lista. Al finalizar, imprime la lista de tuplas"
   ]
  }
 ],
 "metadata": {
  "language_info": {
   "name": "python"
  }
 },
 "nbformat": 4,
 "nbformat_minor": 2
}
